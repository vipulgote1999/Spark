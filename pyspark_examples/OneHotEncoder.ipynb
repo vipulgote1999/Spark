{
 "cells": [
  {
   "cell_type": "code",
   "execution_count": 1,
   "metadata": {},
   "outputs": [
    {
     "name": "stderr",
     "output_type": "stream",
     "text": [
      "WARNING: You are using pip version 20.0.2; however, version 20.2.2 is available.\n",
      "You should consider upgrading via the 'F:\\data imp\\coding\\PySpark\\cmd env\\pyspark_cmd\\Scripts\\python.exe -m pip install --upgrade pip' command.\n"
     ]
    },
    {
     "name": "stdout",
     "output_type": "stream",
     "text": [
      "Requirement already satisfied: findspark in f:\\data imp\\coding\\pyspark\\cmd env\\pyspark_cmd\\lib\\site-packages (1.4.2)\n"
     ]
    }
   ],
   "source": [
    "!pip install findspark"
   ]
  },
  {
   "cell_type": "code",
   "execution_count": null,
   "metadata": {},
   "outputs": [],
   "source": [
    "import os\n",
    "import sys\n",
    "os.environ['SPARK_HOME']=r'F:\\data imp\\coding\\PySpark\\python env\\spark-3.0.0-bin-hadoop2.7'"
   ]
  },
  {
   "cell_type": "code",
   "execution_count": 2,
   "metadata": {},
   "outputs": [],
   "source": [
    "from __future__ import print_function\n",
    "import findspark\n",
    "findspark.init()\n",
    "findspark.find()\n",
    "import pyspark\n",
    "findspark.find()\n",
    "from pyspark.sql import SparkSession\n",
    "from pyspark.ml.feature import OneHotEncoder,StringIndexer"
   ]
  },
  {
   "cell_type": "code",
   "execution_count": 3,
   "metadata": {},
   "outputs": [],
   "source": [
    "if __name__ == \"__main__\":\n",
    "    spark = SparkSession\\\n",
    "        .builder\\\n",
    "        .appName(\"OneHotEncoder\")\\\n",
    "        .getOrCreate()"
   ]
  },
  {
   "cell_type": "code",
   "execution_count": 4,
   "metadata": {},
   "outputs": [],
   "source": [
    "data = spark.createDataFrame([\n",
    "        (0,\"Good\"),\n",
    "        (1,\"Bad\"),\n",
    "        (2,\"Good\"),\n",
    "        (3,\"Good\"),\n",
    "        (4,\"Bad\"),\n",
    "        (5,\"Good\")\n",
    "    ], [\"id\",\"category1\"])"
   ]
  },
  {
   "cell_type": "code",
   "execution_count": 5,
   "metadata": {},
   "outputs": [
    {
     "name": "stdout",
     "output_type": "stream",
     "text": [
      "+---+---------+\n",
      "| id|category1|\n",
      "+---+---------+\n",
      "|  0|     Good|\n",
      "|  1|      Bad|\n",
      "|  2|     Good|\n",
      "|  3|     Good|\n",
      "|  4|      Bad|\n",
      "|  5|     Good|\n",
      "+---+---------+\n",
      "\n"
     ]
    }
   ],
   "source": [
    "data.show()"
   ]
  },
  {
   "cell_type": "code",
   "execution_count": 6,
   "metadata": {},
   "outputs": [
    {
     "name": "stdout",
     "output_type": "stream",
     "text": [
      "root\n",
      " |-- id: long (nullable = true)\n",
      " |-- category1: string (nullable = true)\n",
      "\n"
     ]
    }
   ],
   "source": [
    "data.printSchema()"
   ]
  },
  {
   "cell_type": "code",
   "execution_count": null,
   "metadata": {},
   "outputs": [],
   "source": [
    "# one hot encoder require array type abject so if we pass our columns right now it will give an error.\n",
    "\n",
    "# we will use stringIndexer first then will apply oneHotEncoder"
   ]
  },
  {
   "cell_type": "code",
   "execution_count": 7,
   "metadata": {},
   "outputs": [],
   "source": [
    "indexer = StringIndexer(inputCol=\"category1\", outputCol=\"category_index\")"
   ]
  },
  {
   "cell_type": "code",
   "execution_count": 8,
   "metadata": {},
   "outputs": [
    {
     "name": "stdout",
     "output_type": "stream",
     "text": [
      "+---+---------+--------------+\n",
      "| id|category1|category_index|\n",
      "+---+---------+--------------+\n",
      "|  0|     Good|           0.0|\n",
      "|  1|      Bad|           1.0|\n",
      "|  2|     Good|           0.0|\n",
      "|  3|     Good|           0.0|\n",
      "|  4|      Bad|           1.0|\n",
      "|  5|     Good|           0.0|\n",
      "+---+---------+--------------+\n",
      "\n"
     ]
    }
   ],
   "source": [
    "indexed = indexer.fit(data).transform(data)\n",
    "indexed.show()"
   ]
  },
  {
   "cell_type": "code",
   "execution_count": 11,
   "metadata": {},
   "outputs": [],
   "source": [
    "encoder = OneHotEncoder(inputCol=\"category_index\", outputCol=\"category_encode\")\n",
    "encoder."
   ]
  },
  {
   "cell_type": "code",
   "execution_count": 13,
   "metadata": {},
   "outputs": [],
   "source": [
    "encoded = encoder.fit(indexed).transform(indexed)"
   ]
  },
  {
   "cell_type": "code",
   "execution_count": 14,
   "metadata": {},
   "outputs": [
    {
     "name": "stdout",
     "output_type": "stream",
     "text": [
      "+---+---------+--------------+---------------+\n",
      "| id|category1|category_index|category_encode|\n",
      "+---+---------+--------------+---------------+\n",
      "|  0|     Good|           0.0|  (1,[0],[1.0])|\n",
      "|  1|      Bad|           1.0|      (1,[],[])|\n",
      "|  2|     Good|           0.0|  (1,[0],[1.0])|\n",
      "|  3|     Good|           0.0|  (1,[0],[1.0])|\n",
      "|  4|      Bad|           1.0|      (1,[],[])|\n",
      "|  5|     Good|           0.0|  (1,[0],[1.0])|\n",
      "+---+---------+--------------+---------------+\n",
      "\n"
     ]
    }
   ],
   "source": [
    "encoded.show()"
   ]
  },
  {
   "cell_type": "code",
   "execution_count": null,
   "metadata": {},
   "outputs": [],
   "source": [
    "# let's take an example with categories"
   ]
  },
  {
   "cell_type": "code",
   "execution_count": 15,
   "metadata": {},
   "outputs": [],
   "source": [
    "data1 = spark.createDataFrame([\n",
    "        (0,\"Good\"),\n",
    "        (1,\"Bad\"),\n",
    "        (2,\"Good\"),\n",
    "        (3,\"Average\"),\n",
    "        (4,\"Bad\"),\n",
    "        (5,\"Good\"),\n",
    "        (6,\"Average\"),\n",
    "        (7,\"Average\"),\n",
    "        (8,\"Average\")\n",
    "    ], [\"id\",\"category1\"])"
   ]
  },
  {
   "cell_type": "code",
   "execution_count": 16,
   "metadata": {},
   "outputs": [
    {
     "name": "stdout",
     "output_type": "stream",
     "text": [
      "+---+---------+\n",
      "| id|category1|\n",
      "+---+---------+\n",
      "|  0|     Good|\n",
      "|  1|      Bad|\n",
      "|  2|     Good|\n",
      "|  3|  Average|\n",
      "|  4|      Bad|\n",
      "|  5|     Good|\n",
      "|  6|  Average|\n",
      "|  7|  Average|\n",
      "|  8|  Average|\n",
      "+---+---------+\n",
      "\n"
     ]
    }
   ],
   "source": [
    "data1.show()"
   ]
  },
  {
   "cell_type": "code",
   "execution_count": 17,
   "metadata": {},
   "outputs": [],
   "source": [
    "indexer = StringIndexer(inputCol=\"category1\", outputCol=\"category_index\")"
   ]
  },
  {
   "cell_type": "code",
   "execution_count": 18,
   "metadata": {},
   "outputs": [
    {
     "name": "stdout",
     "output_type": "stream",
     "text": [
      "+---+---------+--------------+\n",
      "| id|category1|category_index|\n",
      "+---+---------+--------------+\n",
      "|  0|     Good|           1.0|\n",
      "|  1|      Bad|           2.0|\n",
      "|  2|     Good|           1.0|\n",
      "|  3|  Average|           0.0|\n",
      "|  4|      Bad|           2.0|\n",
      "|  5|     Good|           1.0|\n",
      "|  6|  Average|           0.0|\n",
      "|  7|  Average|           0.0|\n",
      "|  8|  Average|           0.0|\n",
      "+---+---------+--------------+\n",
      "\n"
     ]
    }
   ],
   "source": [
    "indexed = indexer.fit(data1).transform(data1)\n",
    "indexed.show()"
   ]
  },
  {
   "cell_type": "code",
   "execution_count": 19,
   "metadata": {},
   "outputs": [],
   "source": [
    "encoder = OneHotEncoder(inputCol=\"category_index\", outputCol=\"category_encode\")\n",
    "    "
   ]
  },
  {
   "cell_type": "code",
   "execution_count": 20,
   "metadata": {},
   "outputs": [
    {
     "ename": "AttributeError",
     "evalue": "'OneHotEncoder' object has no attribute 'transform'",
     "output_type": "error",
     "traceback": [
      "\u001b[1;31m---------------------------------------------------------------------------\u001b[0m",
      "\u001b[1;31mAttributeError\u001b[0m                            Traceback (most recent call last)",
      "\u001b[1;32m<ipython-input-20-a4b282fb74a9>\u001b[0m in \u001b[0;36m<module>\u001b[1;34m\u001b[0m\n\u001b[1;32m----> 1\u001b[1;33m \u001b[0mencoded\u001b[0m \u001b[1;33m=\u001b[0m \u001b[0mencoder\u001b[0m\u001b[1;33m.\u001b[0m\u001b[0mtransform\u001b[0m\u001b[1;33m(\u001b[0m\u001b[0mindexed\u001b[0m\u001b[1;33m)\u001b[0m\u001b[1;33m\u001b[0m\u001b[1;33m\u001b[0m\u001b[0m\n\u001b[0m",
      "\u001b[1;31mAttributeError\u001b[0m: 'OneHotEncoder' object has no attribute 'transform'"
     ]
    }
   ],
   "source": [
    "encoded = encoder.transform(indexed)"
   ]
  },
  {
   "cell_type": "code",
   "execution_count": null,
   "metadata": {},
   "outputs": [],
   "source": [
    "encoded.show()"
   ]
  },
  {
   "cell_type": "code",
   "execution_count": null,
   "metadata": {},
   "outputs": [],
   "source": [
    "spark.stop()"
   ]
  },
  {
   "cell_type": "code",
   "execution_count": null,
   "metadata": {},
   "outputs": [],
   "source": []
  }
 ],
 "metadata": {
  "kernelspec": {
   "display_name": "Python 3",
   "language": "python",
   "name": "python3"
  },
  "language_info": {
   "codemirror_mode": {
    "name": "ipython",
    "version": 3
   },
   "file_extension": ".py",
   "mimetype": "text/x-python",
   "name": "python",
   "nbconvert_exporter": "python",
   "pygments_lexer": "ipython3",
   "version": "3.7.1"
  }
 },
 "nbformat": 4,
 "nbformat_minor": 4
}
